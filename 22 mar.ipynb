{
 "cells": [
  {
   "cell_type": "code",
   "execution_count": null,
   "id": "4402bab2-393f-491e-8149-f1edbcae398d",
   "metadata": {},
   "outputs": [],
   "source": [
    "Q1. Pearson correlation coefficient is a measure of the linear relationship between two variables. Suppose\n",
    "you have collected data on the amount of time students spend studying for an exam and their final exam\n",
    "scores. Calculate the Pearson correlation coefficient between these two variables and interpret the result."
   ]
  },
  {
   "cell_type": "code",
   "execution_count": 1,
   "id": "cdcf266c-5cb3-432f-a2aa-5ac34ffda356",
   "metadata": {},
   "outputs": [
    {
     "data": {
      "text/plain": [
       "PearsonRResult(statistic=1.0, pvalue=0.0)"
      ]
     },
     "execution_count": 1,
     "metadata": {},
     "output_type": "execute_result"
    }
   ],
   "source": [
    "import pandas as pd\n",
    "import numpy as np\n",
    "from scipy.stats import pearsonr\n",
    "study_tim = np.array([3,4,5,6])\n",
    "final_scores = np.array([10,20,30,40])\n",
    "pearsonr(study_tim,final_scores)"
   ]
  },
  {
   "cell_type": "code",
   "execution_count": null,
   "id": "60cbd890-4bc7-4528-ad3b-38ef39ee8027",
   "metadata": {},
   "outputs": [],
   "source": [
    "Spearman's rank correlation is a measure of the monotonic relationship between two variables.\n",
    "Suppose you have collected data on the amount of sleep individuals get each night and their overall job\n",
    "satisfaction level on a scale of 1 to 10. Calculate the Spearman's rank correlation between these two\n",
    "variables and interpret the result."
   ]
  },
  {
   "cell_type": "code",
   "execution_count": 2,
   "id": "dab7454f-e303-4213-b8bd-29202a15f9a3",
   "metadata": {},
   "outputs": [
    {
     "data": {
      "text/plain": [
       "SpearmanrResult(correlation=1.0, pvalue=0.0)"
      ]
     },
     "execution_count": 2,
     "metadata": {},
     "output_type": "execute_result"
    }
   ],
   "source": [
    "from scipy.stats import spearmanr\n",
    "\n",
    "amount_of_sleep = [7, 6, 8, 5, 7]\n",
    "job_satisfaction = [8, 7, 9, 6, 8]\n",
    "spearmanr(amount_of_sleep, job_satisfaction)"
   ]
  },
  {
   "cell_type": "code",
   "execution_count": null,
   "id": "2536f2cc-aca3-474d-b055-ebab11d181ce",
   "metadata": {},
   "outputs": [],
   "source": [
    "Q3. Suppose you are conducting a study to examine the relationship between the number of hours of\n",
    "exercise per week and body mass index (BMI) in a sample of adults. You collected data on both variables\n",
    "for 50 participants. Calculate the Pearson correlation coefficient and the Spearman's rank correlation\n",
    "between these two variables and compare the results."
   ]
  },
  {
   "cell_type": "code",
   "execution_count": 3,
   "id": "896c8ccb-5b05-4958-8494-af539f8f84a1",
   "metadata": {},
   "outputs": [],
   "source": [
    "import numpy as np\n",
    "import pandas as pd\n",
    "from scipy.stats import pearsonr, spearmanr"
   ]
  },
  {
   "cell_type": "code",
   "execution_count": 4,
   "id": "ae29abc6-263d-4ca6-9ff9-184294338680",
   "metadata": {},
   "outputs": [
    {
     "name": "stdout",
     "output_type": "stream",
     "text": [
      "PearsonRResult(statistic=-0.16609095970747995, pvalue=0.7895027778465505) SpearmanrResult(correlation=-0.20519567041703082, pvalue=0.7405819415910722)\n"
     ]
    }
   ],
   "source": [
    "excersise_hour = np.array([2,3,4,5,6])\n",
    "bmi = np.array([25,30,22,30,23])\n",
    "pear = pearsonr(excersise_hour,bmi)\n",
    "spr = spearmanr(excersise_hour,bmi)\n",
    "print(pear,spr)"
   ]
  },
  {
   "cell_type": "code",
   "execution_count": 6,
   "id": "1d9b4c67-2e3c-4472-83cc-80155661704e",
   "metadata": {},
   "outputs": [
    {
     "data": {
      "text/html": [
       "<div>\n",
       "<style scoped>\n",
       "    .dataframe tbody tr th:only-of-type {\n",
       "        vertical-align: middle;\n",
       "    }\n",
       "\n",
       "    .dataframe tbody tr th {\n",
       "        vertical-align: top;\n",
       "    }\n",
       "\n",
       "    .dataframe thead th {\n",
       "        text-align: right;\n",
       "    }\n",
       "</style>\n",
       "<table border=\"1\" class=\"dataframe\">\n",
       "  <thead>\n",
       "    <tr style=\"text-align: right;\">\n",
       "      <th></th>\n",
       "      <th>excersiehour</th>\n",
       "      <th>bmi</th>\n",
       "    </tr>\n",
       "  </thead>\n",
       "  <tbody>\n",
       "    <tr>\n",
       "      <th>excersiehour</th>\n",
       "      <td>1.000000</td>\n",
       "      <td>-0.166091</td>\n",
       "    </tr>\n",
       "    <tr>\n",
       "      <th>bmi</th>\n",
       "      <td>-0.166091</td>\n",
       "      <td>1.000000</td>\n",
       "    </tr>\n",
       "  </tbody>\n",
       "</table>\n",
       "</div>"
      ],
      "text/plain": [
       "              excersiehour       bmi\n",
       "excersiehour      1.000000 -0.166091\n",
       "bmi              -0.166091  1.000000"
      ]
     },
     "execution_count": 6,
     "metadata": {},
     "output_type": "execute_result"
    }
   ],
   "source": [
    "data = {\n",
    "    'excersiehour': [2,3,4,5,6],\n",
    "    'bmi':[25,30,22,30,23]\n",
    "}\n",
    "df = pd.DataFrame(data)\n",
    "df.corr(method = 'pearson')\n",
    "df.sorr"
   ]
  },
  {
   "cell_type": "code",
   "execution_count": null,
   "id": "5a19eac9-2c9f-4b0c-8aa1-3348e4035380",
   "metadata": {},
   "outputs": [],
   "source": [
    "Q4. A researcher is interested in examining the relationship between the number of hours individuals\n",
    "spend watching television per day and their level of physical activity. The researcher collected data on\n",
    "both variables from a sample of 50 participants. Calculate the Pearson correlation coefficient between\n",
    "these two variables."
   ]
  },
  {
   "cell_type": "code",
   "execution_count": 10,
   "id": "db28206b-62c9-4925-a008-29c48f2bef57",
   "metadata": {},
   "outputs": [
    {
     "data": {
      "text/plain": [
       "PearsonRResult(statistic=0.9459053029269172, pvalue=0.05409469707308279)"
      ]
     },
     "execution_count": 10,
     "metadata": {},
     "output_type": "execute_result"
    }
   ],
   "source": [
    "watching_hours = np.array([15,17,17,18])\n",
    "activity_time = np.array([3,7,8,8])\n",
    "pearsonr(watching_hours,activity_time)"
   ]
  },
  {
   "cell_type": "code",
   "execution_count": null,
   "id": "3cdf8e52-aa76-4e89-af07-9003802913bd",
   "metadata": {},
   "outputs": [],
   "source": [
    "Q5. A survey was conducted to examine the relationship between age and preference for a particular\n",
    "brand of soft drink. The survey results are shown below:\n",
    "    \n",
    "25 Coke\n",
    "42 Pepsi\n",
    "37 Mountain dew\n",
    "19 Coke\n",
    "31 Pepsi\n",
    "28 coke\n",
    "           "
   ]
  },
  {
   "cell_type": "code",
   "execution_count": null,
   "id": "fcf22891-9202-42ac-9f6d-95174f135c5f",
   "metadata": {},
   "outputs": [],
   "source": [
    "pd.Data"
   ]
  },
  {
   "cell_type": "code",
   "execution_count": null,
   "id": "f45d2f7a-4ee5-4e75-88c2-dffe7eee925c",
   "metadata": {},
   "outputs": [],
   "source": [
    "A company is interested in examining the relationship between the number of sales calls made per day\n",
    "and the number of sales made per week. The company collected data on both variables from a sample of\n",
    "30 sales representatives. Calculate the Pearson correlation coefficient between these two variables."
   ]
  },
  {
   "cell_type": "code",
   "execution_count": null,
   "id": "65e28df3-fc30-4315-9d6f-f5fb6c35c9cc",
   "metadata": {},
   "outputs": [],
   "source": [
    "sales_calls = np.random.randint[1,100,si]"
   ]
  }
 ],
 "metadata": {
  "kernelspec": {
   "display_name": "Python 3 (ipykernel)",
   "language": "python",
   "name": "python3"
  },
  "language_info": {
   "codemirror_mode": {
    "name": "ipython",
    "version": 3
   },
   "file_extension": ".py",
   "mimetype": "text/x-python",
   "name": "python",
   "nbconvert_exporter": "python",
   "pygments_lexer": "ipython3",
   "version": "3.10.8"
  }
 },
 "nbformat": 4,
 "nbformat_minor": 5
}
